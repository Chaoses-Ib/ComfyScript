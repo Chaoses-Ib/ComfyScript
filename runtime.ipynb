{
 "cells": [
  {
   "cell_type": "code",
   "execution_count": 1,
   "metadata": {},
   "outputs": [
    {
     "name": "stdout",
     "output_type": "stream",
     "text": [
      "Nodes: 167\n"
     ]
    }
   ],
   "source": [
    "from script.runtime import *\n",
    "\n",
    "# await load('http://127.0.0.1:8188/')\n",
    "await load()\n",
    "\n",
    "# Nodes can only be imported after load()\n",
    "from script.runtime.nodes import *"
   ]
  },
  {
   "cell_type": "code",
   "execution_count": 4,
   "metadata": {},
   "outputs": [
    {
     "name": "stdout",
     "output_type": "stream",
     "text": [
      "Queue remaining: 1\n"
     ]
    },
    {
     "name": "stdout",
     "output_type": "stream",
     "text": [
      "100%|██████████████████████████████████████████████████| 20/20\n",
      "Queue remaining: 0\n"
     ]
    }
   ],
   "source": [
    "async with TaskManager():\n",
    "    model, clip, vae = CheckpointLoaderSimple('v1-5-pruned-emaonly.ckpt')\n",
    "    conditioning = CLIPTextEncode('beautiful scenery nature glass bottle landscape, , purple galaxy bottle,', clip)\n",
    "    conditioning2 = CLIPTextEncode('text, watermark', clip)\n",
    "    latent = EmptyLatentImage(512, 512, 1)\n",
    "    latent = KSampler(model, 156680208700286, 20, 8, 'euler', 'normal', conditioning, conditioning2, latent, 1)\n",
    "    image = VAEDecode(latent, vae)\n",
    "    SaveImage(image, 'ComfyUI')"
   ]
  },
  {
   "cell_type": "code",
   "execution_count": 5,
   "metadata": {},
   "outputs": [],
   "source": [
    "await interrupt_current()"
   ]
  },
  {
   "cell_type": "code",
   "execution_count": 6,
   "metadata": {},
   "outputs": [],
   "source": [
    "await clear_queue()"
   ]
  },
  {
   "cell_type": "code",
   "execution_count": 7,
   "metadata": {},
   "outputs": [],
   "source": [
    "await interrupt_all()"
   ]
  },
  {
   "cell_type": "code",
   "execution_count": 8,
   "metadata": {},
   "outputs": [
    {
     "name": "stdout",
     "output_type": "stream",
     "text": [
      "{'prompt_id': 'dc03e7fa-daba-4843-a059-07b1e04cf9c4', 'number': 12, 'node_errors': {}}\n",
      "Queue remaining: 1\n",
      "Queue remaining: 0\n"
     ]
    }
   ],
   "source": [
    "model, clip, vae = CheckpointLoaderSimple('v1-5-pruned-emaonly.ckpt')\n",
    "conditioning = CLIPTextEncode('beautiful scenery nature glass bottle landscape, , purple galaxy bottle,', clip)\n",
    "conditioning2 = CLIPTextEncode('text, watermark', clip)\n",
    "latent = EmptyLatentImage(512, 512, 1)\n",
    "latent = KSampler(model, 156680208700286, 20, 8, 'euler', 'normal', conditioning, conditioning2, latent, 1)\n",
    "image = VAEDecode(latent, vae)\n",
    "save = SaveImage(image, 'ComfyUI')\n",
    "\n",
    "print(await queue(save))"
   ]
  }
 ],
 "metadata": {
  "kernelspec": {
   "display_name": "base",
   "language": "python",
   "name": "python3"
  },
  "language_info": {
   "codemirror_mode": {
    "name": "ipython",
    "version": 3
   },
   "file_extension": ".py",
   "mimetype": "text/x-python",
   "name": "python",
   "nbconvert_exporter": "python",
   "pygments_lexer": "ipython3",
   "version": "3.9.1"
  }
 },
 "nbformat": 4,
 "nbformat_minor": 2
}
