{
 "cells": [
  {
   "cell_type": "code",
   "execution_count": 1,
   "metadata": {},
   "outputs": [
    {
     "name": "stdout",
     "output_type": "stream",
     "text": [
      "Nodes: 167\n"
     ]
    }
   ],
   "source": [
    "from script import runtime\n",
    "from script.runtime import *\n",
    "\n",
    "# await runtime.load('http://127.0.0.1:8188/', locals())\n",
    "await runtime.load()"
   ]
  },
  {
   "cell_type": "code",
   "execution_count": 2,
   "metadata": {},
   "outputs": [
    {
     "name": "stdout",
     "output_type": "stream",
     "text": [
      "Queue remaining: 1\n"
     ]
    },
    {
     "name": "stdout",
     "output_type": "stream",
     "text": [
      "100%|██████████████████████████████████████████████████| 20/20\n",
      "Queue remaining: 0\n"
     ]
    }
   ],
   "source": [
    "async with ComfyScript():\n",
    "    model, clip, vae = CheckpointLoaderSimple('v1-5-pruned-emaonly.ckpt')\n",
    "    conditioning = CLIPTextEncode('beautiful scenery nature glass bottle landscape, , purple galaxy bottle,', clip)\n",
    "    conditioning2 = CLIPTextEncode('text, watermark', clip)\n",
    "    latent = EmptyLatentImage(512, 512, 1)\n",
    "    latent = KSampler(model, 156680208700286, 20, 8, 'euler', 'normal', conditioning, conditioning2, latent, 1)\n",
    "    image = VAEDecode(latent, vae)\n",
    "    SaveImage(image, 'ComfyUI')"
   ]
  },
  {
   "cell_type": "code",
   "execution_count": null,
   "metadata": {},
   "outputs": [],
   "source": [
    "await runtime.interrupt_prompt()"
   ]
  },
  {
   "cell_type": "code",
   "execution_count": null,
   "metadata": {},
   "outputs": [],
   "source": [
    "await runtime.clear_queue()"
   ]
  },
  {
   "cell_type": "code",
   "execution_count": null,
   "metadata": {},
   "outputs": [],
   "source": [
    "await runtime.interrupt_all()"
   ]
  },
  {
   "cell_type": "code",
   "execution_count": 3,
   "metadata": {},
   "outputs": [
    {
     "name": "stdout",
     "output_type": "stream",
     "text": [
      "{'prompt_id': '1de2b943-62d6-4095-9b02-95f7dc213cc8', 'number': 67, 'node_errors': {}}\n",
      "Queue remaining: 1\n",
      "Queue remaining: 0\n"
     ]
    }
   ],
   "source": [
    "runtime.clear_prompt()\n",
    "\n",
    "model, clip, vae = CheckpointLoaderSimple('v1-5-pruned-emaonly.ckpt')\n",
    "conditioning = CLIPTextEncode('beautiful scenery nature glass bottle landscape, , purple galaxy bottle,', clip)\n",
    "conditioning2 = CLIPTextEncode('text, watermark', clip)\n",
    "latent = EmptyLatentImage(512, 512, 1)\n",
    "latent = KSampler(model, 156680208700286, 20, 8, 'euler', 'normal', conditioning, conditioning2, latent, 1)\n",
    "image = VAEDecode(latent, vae)\n",
    "SaveImage(image, 'ComfyUI')\n",
    "\n",
    "print(await runtime.queue_prompt())"
   ]
  }
 ],
 "metadata": {
  "kernelspec": {
   "display_name": "base",
   "language": "python",
   "name": "python3"
  },
  "language_info": {
   "codemirror_mode": {
    "name": "ipython",
    "version": 3
   },
   "file_extension": ".py",
   "mimetype": "text/x-python",
   "name": "python",
   "nbconvert_exporter": "python",
   "pygments_lexer": "ipython3",
   "version": "3.9.1"
  }
 },
 "nbformat": 4,
 "nbformat_minor": 2
}
