{
 "cells": [
  {
   "cell_type": "markdown",
   "metadata": {},
   "source": [
    "# ComfyScript Runtime"
   ]
  },
  {
   "cell_type": "code",
   "execution_count": 1,
   "metadata": {},
   "outputs": [
    {
     "name": "stdout",
     "output_type": "stream",
     "text": [
      "Nodes: 167\n"
     ]
    }
   ],
   "source": [
    "from script.runtime import *\n",
    "\n",
    "# load('http://127.0.0.1:8188/')\n",
    "load()\n",
    "\n",
    "# Nodes can only be imported after load()\n",
    "from script.runtime.nodes import *"
   ]
  },
  {
   "cell_type": "code",
   "execution_count": 4,
   "metadata": {},
   "outputs": [
    {
     "name": "stdout",
     "output_type": "stream",
     "text": [
      "Queue remaining: 1\n"
     ]
    },
    {
     "name": "stdout",
     "output_type": "stream",
     "text": [
      "100%|██████████████████████████████████████████████████| 20/20\n",
      "Queue remaining: 0\n"
     ]
    }
   ],
   "source": [
    "with Workflow():\n",
    "    model, clip, vae = CheckpointLoaderSimple('v1-5-pruned-emaonly.ckpt')\n",
    "    conditioning = CLIPTextEncode('beautiful scenery nature glass bottle landscape, , purple galaxy bottle,', clip)\n",
    "    conditioning2 = CLIPTextEncode('text, watermark', clip)\n",
    "    latent = EmptyLatentImage(512, 512, 1)\n",
    "    latent = KSampler(model, 156680208700286, 20, 8, 'euler', 'normal', conditioning, conditioning2, latent, 1)\n",
    "    image = VAEDecode(latent, vae)\n",
    "    SaveImage(image, 'ComfyUI')"
   ]
  },
  {
   "cell_type": "markdown",
   "metadata": {},
   "source": [
    "To control the queue:"
   ]
  },
  {
   "cell_type": "code",
   "execution_count": 6,
   "metadata": {},
   "outputs": [],
   "source": [
    "queue.cancel_current()"
   ]
  },
  {
   "cell_type": "code",
   "execution_count": 7,
   "metadata": {},
   "outputs": [],
   "source": [
    "queue.cancel_remaining()"
   ]
  },
  {
   "cell_type": "code",
   "execution_count": 8,
   "metadata": {},
   "outputs": [],
   "source": [
    "queue.cancel_all()"
   ]
  },
  {
   "cell_type": "markdown",
   "metadata": {},
   "source": [
    "To wait for the task:"
   ]
  },
  {
   "cell_type": "code",
   "execution_count": 5,
   "metadata": {},
   "outputs": [
    {
     "name": "stdout",
     "output_type": "stream",
     "text": [
      "Queue remaining: 1\n",
      "Queue remaining: 0\n"
     ]
    }
   ],
   "source": [
    "with Workflow(wait=True):\n",
    "    model, clip, vae = CheckpointLoaderSimple('v1-5-pruned-emaonly.ckpt')\n",
    "    conditioning = CLIPTextEncode('beautiful scenery nature glass bottle landscape, , purple galaxy bottle,', clip)\n",
    "    conditioning2 = CLIPTextEncode('text, watermark', clip)\n",
    "    latent = EmptyLatentImage(512, 512, 1)\n",
    "    latent = KSampler(model, 156680208700286, 20, 8, 'euler', 'normal', conditioning, conditioning2, latent, 1)\n",
    "    image = VAEDecode(latent, vae)\n",
    "    SaveImage(image, 'ComfyUI')\n",
    "\n",
    "# Or:\n",
    "with Workflow() as wf:\n",
    "    model, clip, vae = CheckpointLoaderSimple('v1-5-pruned-emaonly.ckpt')\n",
    "    conditioning = CLIPTextEncode('beautiful scenery nature glass bottle landscape, , purple galaxy bottle,', clip)\n",
    "    conditioning2 = CLIPTextEncode('text, watermark', clip)\n",
    "    latent = EmptyLatentImage(512, 512, 1)\n",
    "    latent = KSampler(model, 156680208700286, 20, 8, 'euler', 'normal', conditioning, conditioning2, latent, 1)\n",
    "    image = VAEDecode(latent, vae)\n",
    "    SaveImage(image, 'ComfyUI')\n",
    "wf.task.wait()\n",
    "\n",
    "# Or with await:\n",
    "# await wf.task"
   ]
  },
  {
   "cell_type": "markdown",
   "metadata": {},
   "source": [
    "## Without `Workflow`"
   ]
  },
  {
   "cell_type": "code",
   "execution_count": 10,
   "metadata": {},
   "outputs": [
    {
     "name": "stdout",
     "output_type": "stream",
     "text": [
      "Task 39 (315e8ccd-63eb-48ad-8818-8f22d15520de)\n"
     ]
    }
   ],
   "source": [
    "model, clip, vae = CheckpointLoaderSimple('v1-5-pruned-emaonly.ckpt')\n",
    "conditioning = CLIPTextEncode('beautiful scenery nature glass bottle landscape, , purple galaxy bottle,', clip)\n",
    "conditioning2 = CLIPTextEncode('text, watermark', clip)\n",
    "latent = EmptyLatentImage(512, 512, 1)\n",
    "latent = KSampler(model, 156680208700286, 20, 8, 'euler', 'normal', conditioning, conditioning2, latent, 1)\n",
    "image = VAEDecode(latent, vae)\n",
    "save = SaveImage(image, 'ComfyUI')\n",
    "\n",
    "task = queue.put(save)\n",
    "print(task)\n",
    "\n",
    "# To wait the task:\n",
    "# task.wait()\n",
    "# or:\n",
    "# await task"
   ]
  },
  {
   "cell_type": "markdown",
   "metadata": {},
   "source": [
    "Or use `Workflow` but not use `with`:"
   ]
  },
  {
   "cell_type": "code",
   "execution_count": 11,
   "metadata": {},
   "outputs": [
    {
     "name": "stdout",
     "output_type": "stream",
     "text": [
      "Task 40 (7fa2acca-0ecb-41d1-be73-5450200805e5)\n"
     ]
    }
   ],
   "source": [
    "wf = Workflow()\n",
    "model, clip, vae = CheckpointLoaderSimple('v1-5-pruned-emaonly.ckpt')\n",
    "conditioning = CLIPTextEncode('beautiful scenery nature glass bottle landscape, , purple galaxy bottle,', clip)\n",
    "conditioning2 = CLIPTextEncode('text, watermark', clip)\n",
    "latent = EmptyLatentImage(512, 512, 1)\n",
    "latent = KSampler(model, 156680208700286, 20, 8, 'euler', 'normal', conditioning, conditioning2, latent, 1)\n",
    "image = VAEDecode(latent, vae)\n",
    "wf += SaveImage(image, 'ComfyUI')\n",
    "\n",
    "task = queue.put(wf)\n",
    "print(task)"
   ]
  }
 ],
 "metadata": {
  "kernelspec": {
   "display_name": "base",
   "language": "python",
   "name": "python3"
  },
  "language_info": {
   "codemirror_mode": {
    "name": "ipython",
    "version": 3
   },
   "file_extension": ".py",
   "mimetype": "text/x-python",
   "name": "python",
   "nbconvert_exporter": "python",
   "pygments_lexer": "ipython3",
   "version": "3.9.1"
  }
 },
 "nbformat": 4,
 "nbformat_minor": 2
}
